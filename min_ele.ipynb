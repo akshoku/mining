{
 "cells": [
  {
   "cell_type": "markdown",
   "metadata": {},
   "source": [
    "### Crpyto Mining Electricity Consumpation (ETH) VS WorldWide Electricity Consumption"
   ]
  },
  {
   "cell_type": "markdown",
   "metadata": {},
   "source": [
    "So I keep hearing about Crypto Mining Electricity Consumption in the news, so I thought it would be fun to actually find out what is the reality of it.\n",
    "\n",
    "All the data used here is publicly available.\n"
   ]
  },
  {
   "cell_type": "markdown",
   "metadata": {},
   "source": [
    "ETH Hashrate : 860.73 TH/s at 07-01-2022 11:23 AM (Source : https://2miners.com/eth-network-hashrate)\n",
    "\n",
    "RTX 3060 will be used for calculating energy consumption.\n",
    "RTX 3060 ETH mining stats: 50 MH/s at 120 W (Source : https://miningchamber.com/gpu-mining/rtx-3060-mining-settings/)\n",
    "\n",
    "Total Electricity Consumption Worldwide: 23,398,000 GW.h/yr (Source: https://en.wikipedia.org/wiki/List_of_countries_by_electricity_consumption)\n"
   ]
  },
  {
   "cell_type": "markdown",
   "metadata": {},
   "source": [
    "So, we have to calculate the total power consumed by mining worldwide (ETH).\n"
   ]
  },
  {
   "cell_type": "code",
   "execution_count": 22,
   "metadata": {},
   "outputs": [
    {
     "name": "stdout",
     "output_type": "stream",
     "text": [
      "Total power consumed by ETH mining worldwide(in W): 2065752000.0\n"
     ]
    }
   ],
   "source": [
    "hashrate_3060 = 50\n",
    "power_3060 = 120\n",
    "eth_hashrate = 860.73 * 1000 * 1000 #converting TH/s to MH/s\n",
    "eth_power = (power_3060/hashrate_3060) * eth_hashrate #calculating total power by taking RTX 3060 as reference\n",
    "print(\"Total power consumed by ETH mining worldwide(in W): \" + str(eth_power))"
   ]
  },
  {
   "cell_type": "markdown",
   "metadata": {},
   "source": [
    "Now, converting Total Electricity Consumption to W"
   ]
  },
  {
   "cell_type": "code",
   "execution_count": 21,
   "metadata": {},
   "outputs": [
    {
     "name": "stdout",
     "output_type": "stream",
     "text": [
      "Total power consumed worldwide(in W): 2671004566210.046\n"
     ]
    }
   ],
   "source": [
    "total_elc = 23398000 * 10**9 #converting GW to W\n",
    "total_pow = total_elc/(24*365) #dividing energy by time to get power\n",
    "print('Total power consumed worldwide(in W): '+ str(total_pow))"
   ]
  },
  {
   "cell_type": "markdown",
   "metadata": {},
   "source": [
    "Percentage of power consumed by ETH mining compared to Total power consumption:"
   ]
  },
  {
   "cell_type": "code",
   "execution_count": 16,
   "metadata": {},
   "outputs": [
    {
     "name": "stdout",
     "output_type": "stream",
     "text": [
      "0.07733989024702966\n"
     ]
    }
   ],
   "source": [
    "per = eth_power/total_pow * 100\n",
    "print(per)"
   ]
  },
  {
   "cell_type": "markdown",
   "metadata": {},
   "source": [
    "So, we conclude that crypto mining for Ethash(ETH) consumes only about 0.077% electricity consumed worldwide. If we take into account other mining algorithms and add them, it will still be less than 5x what Ethash consumes. "
   ]
  },
  {
   "cell_type": "code",
   "execution_count": 19,
   "metadata": {},
   "outputs": [],
   "source": [
    "per_total = per * 5"
   ]
  },
  {
   "cell_type": "code",
   "execution_count": 20,
   "metadata": {
    "scrolled": true
   },
   "outputs": [
    {
     "name": "stdout",
     "output_type": "stream",
     "text": [
      "0.38669945123514826\n"
     ]
    }
   ],
   "source": [
    "print(per_total)"
   ]
  },
  {
   "cell_type": "markdown",
   "metadata": {},
   "source": [
    "So, we observe that total electricity consumption for all mining algorithms(approximately) is only 0.39% of the total consumption worldwide."
   ]
  },
  {
   "cell_type": "markdown",
   "metadata": {},
   "source": [
    "This was made by\n",
    "\n",
    "Akshit Singh\n",
    "\n",
    "KJ Somaiya College Of Science And Commerce, Mumbai"
   ]
  }
 ],
 "metadata": {
  "kernelspec": {
   "display_name": "Python 3",
   "language": "python",
   "name": "python3"
  },
  "language_info": {
   "codemirror_mode": {
    "name": "ipython",
    "version": 3
   },
   "file_extension": ".py",
   "mimetype": "text/x-python",
   "name": "python",
   "nbconvert_exporter": "python",
   "pygments_lexer": "ipython3",
   "version": "3.8.5"
  }
 },
 "nbformat": 4,
 "nbformat_minor": 4
}
